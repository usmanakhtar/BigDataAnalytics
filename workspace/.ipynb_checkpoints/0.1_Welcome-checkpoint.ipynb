{
 "cells": [
  {
   "cell_type": "markdown",
   "metadata": {},
   "source": [
    "Welcome\n",
    "-------\n",
    "\n",
    "\n",
    "Welcome to the Apache Spark tutorial notebooks.\n",
    "\n",
    "This very simple notebook is designed to test that your environment is setup correctly.\n",
    "\n",
    "Please `Run All` cells. \n",
    "\n",
    "The notebook should run without errors and you should see a histogram plot at the end.\n",
    "\n",
    "(You can also check the expected output [here](https://piotrszul.github.io/spark-tutorial/notebooks/0.1_Welcome.html))\n",
    "\n",
    "\n",
    "#### Let's go\n"
   ]
  },
  {
   "cell_type": "markdown",
   "metadata": {},
   "source": [
    "Let's check that there are some input data available:"
   ]
  },
  {
   "cell_type": "code",
   "execution_count": 1,
   "metadata": {},
   "outputs": [
    {
     "name": "stdout",
     "output_type": "stream",
     "text": [
      "﻿The Project Gutenberg EBook of The Prince, by Nicolo Machiavelli\r\n",
      "\r\n",
      "This eBook is for the use of anyone anywhere at no cost and with\r\n",
      "almost no restrictions whatsoever.  You may copy it, give it away or\r\n",
      "re-use it under the terms of the Project Gutenberg License included\r\n",
      "with this eBook or online at www.gutenberg.org\r\n",
      "\r\n",
      "\r\n",
      "Title: The Prince\r\n",
      "\r\n"
     ]
    }
   ],
   "source": [
    "%%sh\n",
    "\n",
    "# All the test data sets are located in the `data` directory.\n",
    "# You can preview them using unix command such as `cat`, `head`, `tail`,  `ls`,  etc. \n",
    "# in `shell` cells marked with the `%%sh` magic, e.g.: \n",
    "\n",
    "head -n 10 data/prince_by_machiavelli.txt"
   ]
  },
  {
   "cell_type": "markdown",
   "metadata": {},
   "source": [
    "Let's check if spark is available and what version are we using (should be 2.1+):"
   ]
  },
  {
   "cell_type": "code",
   "execution_count": 2,
   "metadata": {},
   "outputs": [
    {
     "data": {
      "text/plain": [
       "u'2.1.0'"
      ]
     },
     "execution_count": 2,
     "metadata": {},
     "output_type": "execute_result"
    }
   ],
   "source": [
    "# `spark` is the main entry point for all spark related operations.\n",
    "# It is an instance of SparkSession and pyspark automatically creates one for you.\n",
    "# Another one is `sc` an instance of SparkContext, which is used for low lever RRD API.\n",
    "\n",
    "spark.version"
   ]
  },
  {
   "cell_type": "markdown",
   "metadata": {},
   "source": [
    "Let's try to run a simple `Spark` program to compute the number of occurences of words in Machiavelli's \"Prince\", and display ten most frequent ones:"
   ]
  },
  {
   "cell_type": "code",
   "execution_count": 3,
   "metadata": {},
   "outputs": [
    {
     "name": "stdout",
     "output_type": "stream",
     "text": [
      "[(3108, u'the'), (2107, u'to'), (1935, u'and'), (1802, u'of'), (993, u'in'), (920, u'he'), (779, u'a'), (745, u'that'), (640, u'his'), (585, u'it')]\n"
     ]
    }
   ],
   "source": [
    "import operator\n",
    "import re\n",
    "\n",
    "\n",
    "# Here we use Spark RDD API to split a text file into invividual words, \n",
    "# to count the number of occurences of each word and to take top 10 most frequent words.\n",
    "\n",
    "wordCountRDD = sc.textFile('data/prince_by_machiavelli.txt') \\\n",
    "        .flatMap(lambda line: re.split(r'[^a-z\\-\\']+', line.lower())) \\\n",
    "        .filter(lambda word: len(word) > 0 ) \\\n",
    "        .map(lambda word: (word, 1)) \\\n",
    "        .reduceByKey(operator.add)\n",
    "\n",
    "# `take()` function takes the first n elements of an RDD \n",
    "# and returns them in a python `list` object, \n",
    "        \n",
    "top10Words = wordCountRDD \\\n",
    "    .map(lambda (k,v):(v,k)) \\\n",
    "    .sortByKey(False) \\\n",
    "    .take(10)\n",
    "    \n",
    "    \n",
    "# which can then be printed out\n",
    "print(top10Words)"
   ]
  },
  {
   "cell_type": "markdown",
   "metadata": {},
   "source": [
    "Spark SQL is a higer level API for structured data. The data are represented in `data frames` - table like object with columns and rows concenptully similar to `panadas` or `R` data fames.\n",
    "\n",
    "Let's use Spark SQL to display a table with the 10 least frequent words:"
   ]
  },
  {
   "cell_type": "code",
   "execution_count": 4,
   "metadata": {
    "scrolled": true
   },
   "outputs": [
    {
     "data": {
      "text/html": [
       "<div>\n",
       "<table border=\"1\" class=\"dataframe\">\n",
       "  <thead>\n",
       "    <tr style=\"text-align: right;\">\n",
       "      <th></th>\n",
       "      <th>word</th>\n",
       "      <th>count</th>\n",
       "    </tr>\n",
       "  </thead>\n",
       "  <tbody>\n",
       "    <tr>\n",
       "      <th>0</th>\n",
       "      <td>secondly</td>\n",
       "      <td>1</td>\n",
       "    </tr>\n",
       "    <tr>\n",
       "      <th>1</th>\n",
       "      <td>surrounding</td>\n",
       "      <td>1</td>\n",
       "    </tr>\n",
       "    <tr>\n",
       "      <th>2</th>\n",
       "      <td>consolidated</td>\n",
       "      <td>1</td>\n",
       "    </tr>\n",
       "    <tr>\n",
       "      <th>3</th>\n",
       "      <td>comparatively</td>\n",
       "      <td>1</td>\n",
       "    </tr>\n",
       "    <tr>\n",
       "      <th>4</th>\n",
       "      <td>chill</td>\n",
       "      <td>1</td>\n",
       "    </tr>\n",
       "    <tr>\n",
       "      <th>5</th>\n",
       "      <td>prospering</td>\n",
       "      <td>1</td>\n",
       "    </tr>\n",
       "    <tr>\n",
       "      <th>6</th>\n",
       "      <td>calculate</td>\n",
       "      <td>1</td>\n",
       "    </tr>\n",
       "    <tr>\n",
       "      <th>7</th>\n",
       "      <td>attracted</td>\n",
       "      <td>1</td>\n",
       "    </tr>\n",
       "    <tr>\n",
       "      <th>8</th>\n",
       "      <td>similarity</td>\n",
       "      <td>1</td>\n",
       "    </tr>\n",
       "    <tr>\n",
       "      <th>9</th>\n",
       "      <td>popoli</td>\n",
       "      <td>1</td>\n",
       "    </tr>\n",
       "  </tbody>\n",
       "</table>\n",
       "</div>"
      ],
      "text/plain": [
       "DataFrame[word: string, count: bigint]"
      ]
     },
     "metadata": {},
     "output_type": "display_data"
    }
   ],
   "source": [
    "# A data frame can be created from an RDD;\n",
    "# schema defines the names (and types) of columns.\n",
    "\n",
    "wordCountDF = spark.createDataFrame(wordCountRDD, schema = ['word', 'count'])\n",
    "\n",
    "# it just means: sort by column `count` and take the first ten elements\n",
    "\n",
    "bottom10Words = wordCountDF.sort('count').limit(10)\n",
    "\n",
    "# `display` function can be used to display data frames (and also all other sorts of objects)\n",
    "display(bottom10Words)"
   ]
  },
  {
   "cell_type": "markdown",
   "metadata": {},
   "source": [
    "Let's save the results to a csv file.\n",
    "\n",
    "For the tutorial all the output files are saved in the `output` directory:"
   ]
  },
  {
   "cell_type": "code",
   "execution_count": 5,
   "metadata": {
    "collapsed": true
   },
   "outputs": [],
   "source": [
    "# data frames can be saved in many common 'table' formats, for example `csv`.\n",
    "# the `mode='overwrite'` tells Spark to overwite the output file is it exists\n",
    "\n",
    "wordCountDF.write.csv('output/prince-word-count.csv', mode='overwrite', header=True)"
   ]
  },
  {
   "cell_type": "markdown",
   "metadata": {},
   "source": [
    "Let's preview the output:"
   ]
  },
  {
   "cell_type": "code",
   "execution_count": 6,
   "metadata": {},
   "outputs": [
    {
     "name": "stdout",
     "output_type": "stream",
     "text": [
      "total 120\n",
      "-rw-r--r--  1 szu004  staff      0 10 Jul 09:01 _SUCCESS\n",
      "-rw-r--r--  1 szu004  staff  28071 10 Jul 09:01 part-00000-37d5fa68-916f-4243-99f5-4615ed30faf0.csv\n",
      "-rw-r--r--  1 szu004  staff  28953 10 Jul 09:01 part-00001-37d5fa68-916f-4243-99f5-4615ed30faf0.csv\n",
      "\n",
      "Content:\n",
      "word,count\n",
      "pardon,2\n",
      "dissolution,2\n",
      "desirable,2\n",
      "papacy,1\n",
      "four,14\n",
      "demanded,1\n",
      "protest,1\n",
      "thirst,1\n",
      "consists,2\n"
     ]
    }
   ],
   "source": [
    "%%sh \n",
    "\n",
    "# Same as with the input data sets, we can use the `%%sh` cells to preview the \n",
    "# files produced to the `output` directory.\n",
    "\n",
    "# Please note that output we have produced above is actually a directory:\n",
    "\n",
    "ls  -l output/prince-word-count.csv\n",
    "\n",
    "# The `part-*` files inside contain the actual data.\n",
    "\n",
    "echo\n",
    "echo \"Content:\"\n",
    "\n",
    "head -n 10 output/prince-word-count.csv/part-00000-*.csv "
   ]
  },
  {
   "cell_type": "markdown",
   "metadata": {},
   "source": [
    "Finally we can use python `matplotlib` to visualise the result.\n",
    "\n",
    "Let's plot the histogram of the distribution of word counts:"
   ]
  },
  {
   "cell_type": "code",
   "execution_count": 7,
   "metadata": {},
   "outputs": [
    {
     "data": {
      "image/png": "[encoded data removed]",
      "text/plain": [
       "<matplotlib.figure.Figure at 0x105e30c10>"
      ]
     },
     "metadata": {},
     "output_type": "display_data"
    }
   ],
   "source": [
    "import matplotlib.pyplot as plt\n",
    "\n",
    "# we can convert (small) Spark data frames to `pandas`\n",
    "wordCountPDF = wordCountDF.toPandas()\n",
    "\n",
    "# and then use pyplot (plt) to display the results\n",
    "# Please note that we call `plt.close()` first - this is needed for Databricks \n",
    "# to start a new plot.\n",
    "\n",
    "plt.close()\n",
    "plt.hist(wordCountPDF['count'], bins = 20, log = True)\n",
    "plt.show()\n",
    "display()"
   ]
  },
  {
   "cell_type": "markdown",
   "metadata": {},
   "source": [
    "You can now play around modifyging some pieces of the code.\n",
    "\n",
    "When you are done and you are running off the local machine remeber **to close the notebook with `File/Close and Halt`**"
   ]
  }
 ],
 "metadata": {
  "kernelspec": {
   "display_name": "PySpark",
   "language": "python",
   "name": "pyspark"
  },
  "language_info": {
   "codemirror_mode": {
    "name": "ipython",
    "version": 2
   },
   "file_extension": ".py",
   "mimetype": "text/x-python",
   "name": "python",
   "nbconvert_exporter": "python",
   "pygments_lexer": "ipython2",
   "version": "2.7.11"
  }
 },
 "nbformat": 4,
 "nbformat_minor": 1
}
