{
 "cells": [
  {
   "cell_type": "markdown",
   "metadata": {},
   "source": [
    "Welcome\n",
    "-------\n",
    "\n",
    "\n",
    "This is the first lab on PySpark \n",
    "\n",
    "\n",
    "#### Lab on Map Reduce  \n"
   ]
  },
  {
   "cell_type": "markdown",
   "metadata": {},
   "source": [
    "# Step 1 is to Import the Sesssion "
   ]
  },
  {
   "cell_type": "code",
   "execution_count": 17,
   "metadata": {},
   "outputs": [],
   "source": [
    "from pyspark.sql import SparkSession\n",
    "\n",
    "# Step 1: Start Spark Session\n",
    "spark = SparkSession.builder.appName(\"MapReduceWordCount\").getOrCreate()\n",
    "\n"
   ]
  },
  {
   "cell_type": "markdown",
   "metadata": {},
   "source": [
    "# Step 2: Sample data "
   ]
  },
  {
   "cell_type": "code",
   "execution_count": 18,
   "metadata": {},
   "outputs": [],
   "source": [
    "text_data = [\"hello world\", \"hello map reduce\", \"map map reduce\"]"
   ]
  },
  {
   "cell_type": "markdown",
   "metadata": {},
   "source": [
    "#  Step 3: Parallelize the data (this simulates loading data across nodes)"
   ]
  },
  {
   "cell_type": "code",
   "execution_count": 19,
   "metadata": {},
   "outputs": [],
   "source": [
    "rdd = spark.sparkContext.parallelize(text_data)"
   ]
  },
  {
   "cell_type": "markdown",
   "metadata": {},
   "source": [
    "# Step 4:   FlatMap - Split lines into words"
   ]
  },
  {
   "cell_type": "code",
   "execution_count": 20,
   "metadata": {},
   "outputs": [],
   "source": [
    "words = rdd.flatMap(lambda line: line.split())"
   ]
  },
  {
   "cell_type": "markdown",
   "metadata": {},
   "source": [
    "# Step 5: Map - Turn each word into a (word, 1) pair"
   ]
  },
  {
   "cell_type": "code",
   "execution_count": 21,
   "metadata": {},
   "outputs": [],
   "source": [
    "word_pairs = words.map(lambda word: (word, 1))"
   ]
  },
  {
   "cell_type": "markdown",
   "metadata": {},
   "source": [
    "# Step 6: ReduceByKey - Count each word"
   ]
  },
  {
   "cell_type": "code",
   "execution_count": 22,
   "metadata": {},
   "outputs": [],
   "source": [
    "word_counts = word_pairs.reduceByKey(lambda a, b: a + b)"
   ]
  },
  {
   "cell_type": "markdown",
   "metadata": {},
   "source": [
    "# Step 7: Result set "
   ]
  },
  {
   "cell_type": "code",
   "execution_count": 23,
   "metadata": {},
   "outputs": [
    {
     "name": "stdout",
     "output_type": "stream",
     "text": [
      "world: 1\n",
      "map: 3\n",
      "hello: 2\n",
      "reduce: 2\n"
     ]
    }
   ],
   "source": [
    "# Step 7: Collect and print\n",
    "result = word_counts.collect()\n",
    "for word, count in result:\n",
    "    print(f\"{word}: {count}\")"
   ]
  },
  {
   "cell_type": "markdown",
   "metadata": {},
   "source": [
    "# Example: Count total sales per product"
   ]
  },
  {
   "cell_type": "code",
   "execution_count": 25,
   "metadata": {},
   "outputs": [
    {
     "name": "stdout",
     "output_type": "stream",
     "text": [
      "[('apple', 7), ('banana', 3)]\n"
     ]
    }
   ],
   "source": [
    "# Sample: (\"Product\", Quantity)\n",
    "data = [(\"apple\", 3), (\"banana\", 1), (\"apple\", 4), (\"banana\", 2)]\n",
    "\n",
    "rdd = spark.sparkContext.parallelize(data)\n",
    "result = rdd.reduceByKey(lambda x, y: x + y).collect()\n",
    "print(result)\n"
   ]
  },
  {
   "cell_type": "markdown",
   "metadata": {},
   "source": [
    "## Filter Function "
   ]
  },
  {
   "cell_type": "code",
   "execution_count": 27,
   "metadata": {},
   "outputs": [
    {
     "name": "stdout",
     "output_type": "stream",
     "text": [
      "Filtered Output: [2, 4, 6]\n"
     ]
    }
   ],
   "source": [
    "# Get SparkContext from session\n",
    "sc = spark.sparkContext\n",
    "\n",
    "rdd = sc.parallelize([1, 2, 3, 4, 5, 6])\n",
    "\n",
    "# Keep only even numbers\n",
    "filtered = rdd.filter(lambda x: x % 2 == 0)\n",
    "\n",
    "print(\"Filtered Output:\", filtered.collect())  # [2, 4, 6]\n"
   ]
  },
  {
   "cell_type": "markdown",
   "metadata": {},
   "source": [
    "# Distinct - Remove the duplicats"
   ]
  },
  {
   "cell_type": "code",
   "execution_count": 28,
   "metadata": {},
   "outputs": [
    {
     "name": "stdout",
     "output_type": "stream",
     "text": [
      "Distinct Output: [1, 2, 3, 4, 5]\n"
     ]
    }
   ],
   "source": [
    "rdd = sc.parallelize([1, 2, 2, 3, 4, 4, 5])\n",
    "\n",
    "distinct_rdd = rdd.distinct()\n",
    "\n",
    "print(\"Distinct Output:\", distinct_rdd.collect())  # [1, 2, 3, 4, 5]\n"
   ]
  },
  {
   "cell_type": "markdown",
   "metadata": {},
   "source": [
    "# Sorting Function "
   ]
  },
  {
   "cell_type": "code",
   "execution_count": 29,
   "metadata": {},
   "outputs": [
    {
     "name": "stdout",
     "output_type": "stream",
     "text": [
      "Sorted Output: [('banana', 1), ('apple', 3), ('orange', 5)]\n"
     ]
    }
   ],
   "source": [
    "rdd = sc.parallelize([(\"apple\", 3), (\"banana\", 1), (\"orange\", 5)])\n",
    "\n",
    "# Sort by quantity (ascending)\n",
    "sorted_rdd = rdd.sortBy(lambda x: x[1])\n",
    "\n",
    "print(\"Sorted Output:\", sorted_rdd.collect())\n",
    "# Output: [('banana', 1), ('apple', 3), ('orange', 5)]\n"
   ]
  },
  {
   "cell_type": "markdown",
   "metadata": {},
   "source": [
    "#### Lab on PySpark \n"
   ]
  },
  {
   "cell_type": "code",
   "execution_count": 1,
   "metadata": {
    "collapsed": true,
    "jupyter": {
     "outputs_hidden": true
    }
   },
   "outputs": [
    {
     "name": "stdout",
     "output_type": "stream",
     "text": [
      "+-----+\n",
      "| name|\n",
      "+-----+\n",
      "|Alice|\n",
      "|  Bob|\n",
      "+-----+\n",
      "\n"
     ]
    }
   ],
   "source": [
    "# Running the SPARK SQL Code \n",
    "from pyspark.sql import SparkSession\n",
    "\n",
    "# Create Spark session\n",
    "spark = SparkSession.builder.appName(\"SQLExample\").getOrCreate()\n",
    "\n",
    "# Sample data\n",
    "data = [(\"Alice\", 34), (\"Bob\", 45), (\"Charlie\", 29)]\n",
    "columns = [\"name\", \"age\"]\n",
    "\n",
    "# Create DataFrame\n",
    "df = spark.createDataFrame(data, columns)\n",
    "\n",
    "# Register DataFrame as SQL temporary view\n",
    "df.createOrReplaceTempView(\"people\")\n",
    "\n",
    "# Run SQL query\n",
    "result = spark.sql(\"SELECT name FROM people WHERE age > 30\")\n",
    "result.show()\n"
   ]
  },
  {
   "cell_type": "markdown",
   "metadata": {},
   "source": [
    "Let's check that there are some input data available:"
   ]
  },
  {
   "cell_type": "code",
   "execution_count": 11,
   "metadata": {},
   "outputs": [
    {
     "name": "stdout",
     "output_type": "stream",
     "text": [
      "﻿The Project Gutenberg EBook of The Prince, by Nicolo Machiavelli\n",
      "\n",
      "This eBook is for the use of anyone anywhere at no cost and with\n",
      "almost no restrictions whatsoever.  You may copy it, give it away or\n",
      "re-use it under the terms of the Project Gutenberg License included\n",
      "with this eBook or online at www.gutenberg.org\n",
      "\n",
      "\n",
      "Title: The Prince\n",
      "\n"
     ]
    }
   ],
   "source": [
    "%%sh\n",
    "\n",
    "# All the test data sets are located in the `data` directory.\n",
    "# You can preview them using unix command such as `cat`, `head`, `tail`,  `ls`,  etc. \n",
    "# in `shell` cells marked with the `%%sh` magic, e.g.: \n",
    "\n",
    "head -n 10 /home/jovyan/data/prince_by_machiavelli.txt"
   ]
  },
  {
   "cell_type": "code",
   "execution_count": 12,
   "metadata": {},
   "outputs": [],
   "source": [
    "from pyspark.sql import SparkSession\n",
    "\n",
    "# Initialize a SparkSession\n",
    "spark = SparkSession.builder.appName(\"RDDExample\").getOrCreate()\n",
    "\n",
    "# Get the SparkContext from the SparkSession\n",
    "sc = spark.sparkContext\n"
   ]
  },
  {
   "cell_type": "markdown",
   "metadata": {},
   "source": [
    "Let's check if spark is available and what version are we using (should be 2.1+):"
   ]
  },
  {
   "cell_type": "code",
   "execution_count": 3,
   "metadata": {},
   "outputs": [
    {
     "data": {
      "text/plain": [
       "'3.5.0'"
      ]
     },
     "execution_count": 3,
     "metadata": {},
     "output_type": "execute_result"
    }
   ],
   "source": [
    "# `spark` is the main entry point for all spark related operations.\n",
    "# It is an instance of SparkSession and pyspark automatically creates one for you.\n",
    "# Another one is `sc` an instance of SparkContext, which is used for low lever RRD API.\n",
    "\n",
    "spark.version"
   ]
  },
  {
   "cell_type": "markdown",
   "metadata": {},
   "source": [
    "Let's try to run a simple `Spark` program to compute the number of occurences of words in Machiavelli's \"Prince\", and display ten most frequent ones:"
   ]
  },
  {
   "cell_type": "code",
   "execution_count": 6,
   "metadata": {},
   "outputs": [
    {
     "name": "stdout",
     "output_type": "stream",
     "text": [
      "[(3108, 'the'), (2107, 'to'), (1935, 'and'), (1802, 'of'), (993, 'in'), (920, 'he'), (779, 'a'), (745, 'that'), (640, 'his'), (585, 'it')]\n"
     ]
    }
   ],
   "source": [
    "from pyspark.sql import SparkSession\n",
    "\n",
    "# Initialize a SparkSession\n",
    "spark = SparkSession.builder.appName(\"RDDExample\").getOrCreate()\n",
    "\n",
    "# Get the SparkContext from the SparkSession\n",
    "sc = spark.sparkContext\n",
    "\n",
    "import operator\n",
    "import re\n",
    "\n",
    "# Read the file and compute word counts\n",
    "wordCountRDD = sc.textFile('/home/jovyan/data/prince_by_machiavelli.txt') \\\n",
    "    .flatMap(lambda line: re.split(r'[^a-z\\-\\']+', line.lower())) \\\n",
    "    .filter(lambda word: len(word) > 0) \\\n",
    "    .map(lambda word: (word, 1)) \\\n",
    "    .reduceByKey(operator.add)\n",
    "\n",
    "# Sort by count descending and take top 10\n",
    "top10Words = wordCountRDD \\\n",
    "    .map(lambda kv: (kv[1], kv[0])) \\\n",
    "    .sortByKey(False) \\\n",
    "    .take(10)\n",
    "\n",
    "# Print results\n",
    "print(top10Words)\n"
   ]
  },
  {
   "cell_type": "markdown",
   "metadata": {},
   "source": [
    "Spark SQL is a higer level API for structured data. The data are represented in `data frames` - table like object with columns and rows concenptully similar to `panadas` or `R` data fames.\n",
    "\n",
    "Let's use Spark SQL to display a table with the 10 least frequent words:"
   ]
  },
  {
   "cell_type": "code",
   "execution_count": 7,
   "metadata": {
    "scrolled": true
   },
   "outputs": [
    {
     "data": {
      "text/plain": [
       "DataFrame[word: string, count: bigint]"
      ]
     },
     "metadata": {},
     "output_type": "display_data"
    }
   ],
   "source": [
    "# A data frame can be created from an RDD;\n",
    "# schema defines the names (and types) of columns.\n",
    "\n",
    "wordCountDF = spark.createDataFrame(wordCountRDD, schema = ['word', 'count'])\n",
    "\n",
    "# it just means: sort by column `count` and take the first ten elements\n",
    "\n",
    "bottom10Words = wordCountDF.sort('count').limit(10)\n",
    "\n",
    "# `display` function can be used to display data frames (and also all other sorts of objects)\n",
    "display(bottom10Words)"
   ]
  },
  {
   "cell_type": "markdown",
   "metadata": {},
   "source": [
    "Let's save the results to a csv file.\n",
    "\n",
    "For the tutorial all the output files are saved in the `output` directory:"
   ]
  },
  {
   "cell_type": "code",
   "execution_count": 8,
   "metadata": {},
   "outputs": [],
   "source": [
    "# data frames can be saved in many common 'table' formats, for example `csv`.\n",
    "# the `mode='overwrite'` tells Spark to overwite the output file is it exists\n",
    "\n",
    "wordCountDF.write.csv('output/prince-word-count.csv', mode='overwrite', header=True)"
   ]
  },
  {
   "cell_type": "markdown",
   "metadata": {},
   "source": [
    "Let's preview the output:"
   ]
  },
  {
   "cell_type": "code",
   "execution_count": 9,
   "metadata": {},
   "outputs": [
    {
     "name": "stdout",
     "output_type": "stream",
     "text": [
      "total 56\n",
      "-rw-r--r-- 1 jovyan users 28518 Apr  6 08:39 part-00000-398732c1-e36b-49a9-9e81-616617c9b8b3-c000.csv\n",
      "-rw-r--r-- 1 jovyan users 28506 Apr  6 08:39 part-00001-398732c1-e36b-49a9-9e81-616617c9b8b3-c000.csv\n",
      "-rw-r--r-- 1 jovyan users     0 Apr  6 08:39 _SUCCESS\n",
      "\n",
      "Content:\n",
      "word,count\n",
      "of,1802\n",
      "by,506\n",
      "this,366\n",
      "for,444\n",
      "use,30\n",
      "anyone,5\n",
      "at,210\n",
      "no,114\n",
      "cost,4\n"
     ]
    }
   ],
   "source": [
    "%%sh \n",
    "\n",
    "# Same as with the input data sets, we can use the `%%sh` cells to preview the \n",
    "# files produced to the `output` directory.\n",
    "\n",
    "# Please note that output we have produced above is actually a directory:\n",
    "\n",
    "ls  -l output/prince-word-count.csv\n",
    "\n",
    "# The `part-*` files inside contain the actual data.\n",
    "\n",
    "echo\n",
    "echo \"Content:\"\n",
    "\n",
    "head -n 10 output/prince-word-count.csv/part-00000-*.csv "
   ]
  },
  {
   "cell_type": "markdown",
   "metadata": {},
   "source": [
    "Finally we can use python `matplotlib` to visualise the result.\n",
    "\n",
    "Let's plot the histogram of the distribution of word counts:"
   ]
  },
  {
   "cell_type": "code",
   "execution_count": 10,
   "metadata": {},
   "outputs": [
    {
     "data": {
      "image/png": "[encoded data removed]",
      "text/plain": [
       "<Figure size 640x480 with 1 Axes>"
      ]
     },
     "metadata": {},
     "output_type": "display_data"
    }
   ],
   "source": [
    "import matplotlib.pyplot as plt\n",
    "\n",
    "# we can convert (small) Spark data frames to `pandas`\n",
    "wordCountPDF = wordCountDF.toPandas()\n",
    "\n",
    "# and then use pyplot (plt) to display the results\n",
    "# Please note that we call `plt.close()` first - this is needed for Databricks \n",
    "# to start a new plot.\n",
    "\n",
    "plt.close()\n",
    "plt.hist(wordCountPDF['count'], bins = 20, log = True)\n",
    "plt.show()\n",
    "display()"
   ]
  },
  {
   "cell_type": "markdown",
   "metadata": {},
   "source": [
    "You can now play around modifyging some pieces of the code.\n",
    "\n",
    "When you are done and you are running off the local machine remeber **to close the notebook with `File/Close and Halt`**"
   ]
  }
 ],
 "metadata": {
  "kernelspec": {
   "display_name": "Python 3 (ipykernel)",
   "language": "python",
   "name": "python3"
  },
  "language_info": {
   "codemirror_mode": {
    "name": "ipython",
    "version": 3
   },
   "file_extension": ".py",
   "mimetype": "text/x-python",
   "name": "python",
   "nbconvert_exporter": "python",
   "pygments_lexer": "ipython3",
   "version": "3.11.6"
  }
 },
 "nbformat": 4,
 "nbformat_minor": 4
}
